{
 "cells": [
  {
   "cell_type": "code",
   "execution_count": 1,
   "metadata": {},
   "outputs": [],
   "source": [
    "from random import uniform\n",
    "from sampling.montecarlo import MonteCarlo\n",
    "\n",
    "def sampling_func():\n",
    "    x = uniform(0.0, 1.0)   \n",
    "    y = uniform(0.0, 1.0)\n",
    "\n",
    "    if (x**2 + y**2 <= 1):\n",
    "        return True\n",
    "    else:\n",
    "        return False\n",
    "\n",
    "def aggregate_func(samples):\n",
    "\n",
    "    count_true  = 0\n",
    "    count_total = len(samples)\n",
    "\n",
    "    for sample in samples:\n",
    "        if sample == True:\n",
    "            count_true += 1\n",
    "\n",
    "    return (4.0 * count_true / count_total)"
   ]
  },
  {
   "cell_type": "code",
   "execution_count": 2,
   "metadata": {},
   "outputs": [
    {
     "name": "stdout",
     "output_type": "stream",
     "text": [
      "pi: 3.1426636\n"
     ]
    }
   ],
   "source": [
    "num_samples = 20000000\n",
    "n_jobs = 2\n",
    "\n",
    "mc = MonteCarlo(sampling_func, aggregate_func)\n",
    "pi = mc.simulate(num_samples, n_jobs)\n",
    "\n",
    "print (\"pi: {}\".format(pi))"
   ]
  },
  {
   "cell_type": "code",
   "execution_count": null,
   "metadata": {},
   "outputs": [],
   "source": []
  }
 ],
 "metadata": {
  "kernelspec": {
   "display_name": "Python 3",
   "language": "python",
   "name": "python3"
  },
  "language_info": {
   "codemirror_mode": {
    "name": "ipython",
    "version": 3
   },
   "file_extension": ".py",
   "mimetype": "text/x-python",
   "name": "python",
   "nbconvert_exporter": "python",
   "pygments_lexer": "ipython3",
   "version": "3.6.4"
  }
 },
 "nbformat": 4,
 "nbformat_minor": 2
}
